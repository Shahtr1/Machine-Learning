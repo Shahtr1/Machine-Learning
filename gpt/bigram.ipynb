{
 "cells": [
  {
   "cell_type": "code",
   "execution_count": 34,
   "id": "0c5d2722-ff49-45b9-94f4-b70b0bddbafb",
   "metadata": {},
   "outputs": [
    {
     "name": "stdout",
     "output_type": "stream",
     "text": [
      "cuda\n"
     ]
    }
   ],
   "source": [
    "import torch\n",
    "import torch.nn as nn\n",
    "from torch.nn import functional as F\n",
    "device = 'cuda' if torch.cuda.is_available() else 'cpu'\n",
    "print(device)\n",
    "block_size = 8\n",
    "batch_size = 4\n",
    "max_iters = 10000\n",
    "# eval_interval = 2500\n",
    "learning_rate = 3e-4"
   ]
  },
  {
   "cell_type": "code",
   "execution_count": 31,
   "id": "fbf9d14d-a503-404b-aabb-9db9139f6e2d",
   "metadata": {},
   "outputs": [
    {
     "name": "stdout",
     "output_type": "stream",
     "text": [
      "['\\n', ' ', '!', '\"', '&', \"'\", '(', ')', '*', ',', '-', '.', '0', '1', '2', '3', '4', '5', '6', '7', '8', '9', ':', ';', '?', 'A', 'B', 'C', 'D', 'E', 'F', 'G', 'H', 'I', 'J', 'K', 'L', 'M', 'N', 'O', 'P', 'Q', 'R', 'S', 'T', 'U', 'V', 'W', 'X', 'Y', 'Z', '[', ']', '_', 'a', 'b', 'c', 'd', 'e', 'f', 'g', 'h', 'i', 'j', 'k', 'l', 'm', 'n', 'o', 'p', 'q', 'r', 's', 't', 'u', 'v', 'w', 'x', 'y', 'z', '\\ufeff']\n",
      "81\n"
     ]
    }
   ],
   "source": [
    "with open('wizard_of_oz.txt', 'r', encoding='utf-8') as f:\n",
    "    text = f.read()\n",
    "chars = sorted(set(text))\n",
    "print(chars)\n",
    "print(len(chars))\n",
    "vocab_size = len(chars)"
   ]
  },
  {
   "cell_type": "code",
   "execution_count": 20,
   "id": "cdc5700c-d177-4df0-9b11-e0e7a6059a10",
   "metadata": {},
   "outputs": [
    {
     "name": "stdout",
     "output_type": "stream",
     "text": [
      "tensor([80,  1,  1, 28, 39, 42, 39, 44, 32, 49,  1, 25, 38, 28,  1, 44, 32, 29,\n",
      "         1, 47, 33, 50, 25, 42, 28,  1, 33, 38,  1, 39, 50,  0,  0,  1,  1, 26,\n",
      "        49,  0,  0,  1,  1, 36, 11,  1, 30, 42, 25, 38, 35,  1, 26, 25, 45, 37,\n",
      "         0,  0,  1,  1, 25, 45, 44, 32, 39, 42,  1, 39, 30,  1, 44, 32, 29,  1,\n",
      "        47, 33, 50, 25, 42, 28,  1, 39, 30,  1, 39, 50,  9,  1, 44, 32, 29,  1,\n",
      "        36, 25, 38, 28,  1, 39, 30,  1, 39, 50])\n",
      "232309\n"
     ]
    }
   ],
   "source": [
    "string_to_int = {ch:i for i,ch in enumerate(chars)}\n",
    "int_to_string = {i:ch for i,ch in enumerate(chars)}\n",
    "encode = lambda s: [string_to_int[c] for c in s]\n",
    "decode = lambda l: ''.join([int_to_string[i] for i in l])\n",
    "\n",
    "data = torch.tensor(encode(text), dtype=torch.long)\n",
    "print(data[:100])\n",
    "print(len(data))"
   ]
  },
  {
   "cell_type": "code",
   "execution_count": 28,
   "metadata": {},
   "outputs": [
    {
     "name": "stdout",
     "output_type": "stream",
     "text": [
      "tensor([ 61741, 105838,  66110,  38360])\n",
      "inputs:\n",
      "tensor([[60,  1, 58, 65, 72, 58,  1, 61],\n",
      "        [ 1, 61, 68, 71, 72, 58, 23,  1],\n",
      "        [73, 54, 64, 58,  1, 54,  1, 67],\n",
      "        [57,  1, 56, 68, 66, 58,  1, 68]], device='cuda:0')\n",
      "targets:\n",
      "tensor([[ 1, 58, 65, 72, 58,  1, 61, 58],\n",
      "        [61, 68, 71, 72, 58, 23,  1,  3],\n",
      "        [54, 64, 58,  1, 54,  1, 67, 54],\n",
      "        [ 1, 56, 68, 66, 58,  1, 68, 74]], device='cuda:0')\n"
     ]
    }
   ],
   "source": [
    "n = int(0.8 * len(data))\n",
    "train_data = data[:n]\n",
    "val_data = data[n:]\n",
    "\n",
    "def get_batch(split):\n",
    "    data = train_data if split == 'train' else val_data\n",
    "    ix = torch.randint(len(data) - block_size, (batch_size,))\n",
    "    print(ix)\n",
    "    x = torch.stack([data[i : i+block_size] for i in ix])\n",
    "    y = torch.stack([data[i+1 : i+block_size+1] for i in ix])\n",
    "    x,y = x.to(device), y.to(device)\n",
    "    return x, y\n",
    "\n",
    "x, y = get_batch('train')\n",
    "print('inputs:')\n",
    "print(x)\n",
    "print('targets:')\n",
    "print(y)"
   ]
  },
  {
   "cell_type": "code",
   "execution_count": null,
   "id": "91d95bc0",
   "metadata": {},
   "outputs": [
    {
     "name": "stdout",
     "output_type": "stream",
     "text": [
      "\n",
      "riYF\n",
      "*3F27])L[u]BD4.n1r].t8;X nH0_Yb\n",
      "49j\n",
      "vQ&FdJie)bhjf7ciA[7]:x:3,Y[hDoGEWAgTT&U\n",
      "js, 22VLxb_AQ(LyXC_A\n",
      ":D2St\"wjJqi0CQ2(AlOtKuH\"RqJyawJZQwv54B,sC\";oEIT9y10Kq\n",
      "'40hR:p;C?RuSyi5I6:FZOVygM,RnRwnNDbbb﻿BhAX9lKf?GvnITZnsB5.H?UimyqqZL*4fS2Iqy-o5[ij﻿KpX36Nhi-exyf﻿y80lJZ_s(geX'*Uj'YBo&FW)TAQn:3rEVawcUlJZH(3DIba]3,]BB.bqMGWwf7_R:3NE(RwfaX2AqDUlzl]s﻿Nt-JZvaX\"oHPuZL)l-\"wH0feyxGfZEd1g1]6dofS&mphzbvQNzFd]O!aqq d3,xf7D,IGY[HGy6ebAm\n",
      "gs&TZ9j::3IOJD?7AAut*1r:L9&LZ;l(,pKp8gWO4﻿y&u5HE)O!oH0 W8wp\"89WTGO'y890rV]8hl-8Np[\n"
     ]
    }
   ],
   "source": [
    "class BigramLanguaageModel(nn.Module):\n",
    "    def __init__(self, vocab_size):\n",
    "        super().__init__()\n",
    "        self.token_embedding_table = nn.Embedding(vocab_size, vocab_size)\n",
    "\n",
    "    def forward(self, index, targets=None):\n",
    "        logits = self.token_embedding_table(index)\n",
    "\n",
    "        if targets is None:\n",
    "            loss = None\n",
    "        else:\n",
    "            batch_size, time_steps, vocab_size = logits.shape\n",
    "            logits = logits.view(batch_size * time_steps, vocab_size)\n",
    "            targets = targets.view(batch_size * time_steps)\n",
    "            loss = F.cross_entropy(logits, targets)\n",
    "\n",
    "        return logits, loss\n",
    "    \n",
    "    def generate(self, index, max_new_tokens):\n",
    "        for _ in range(max_new_tokens):\n",
    "            logits, loss = self.forward(index) # self(index), will call self.forward automatically\n",
    "            logits = logits[:, -1, :]\n",
    "            probs = F.softmax(logits, dim=-1)\n",
    "            index_next = torch.multinomial(probs, num_samples=1)\n",
    "            index = torch.cat((index, index_next), dim=1)\n",
    "        return index\n",
    "    \n",
    "model = BigramLanguaageModel(vocab_size)\n",
    "m = model.to(device)\n",
    "\n",
    "context = torch.zeros((1,1), dtype=torch.long, device=device)\n",
    "generated_chars = decode(m.generate(context, max_new_tokens=500)[0].tolist())\n",
    "print(generated_chars)"
   ]
  },
  {
   "cell_type": "markdown",
   "id": "315505c1",
   "metadata": {},
   "source": [
    "During training, we follow this 4-step update process:\n",
    "\n",
    "1.  Make Predictions → `logits = model.forward(xb)`\n",
    "2.  Compute Loss (Error) → `loss = F.cross_entropy(logits, yb)`\n",
    "3.  Compute Gradients → `loss.backward()`\n",
    "4.  Update Weights → `optimizer.step()`\n",
    "\n",
    "The optimizer adjusts each weight using the learning rate:\n",
    "    `new weight = old weight − learning rate × gradient`\n"
   ]
  },
  {
   "cell_type": "markdown",
   "id": "b058d6d6",
   "metadata": {},
   "source": [
    "Gradient Descent is the mathematical technique we use to train neural networks.\n",
    "It adjusts the weights of the model to reduce the loss and make better predictions.\n",
    "\n",
    "It follows this formula:\n",
    "$$\n",
    "W_{\\text{new}} = W_{\\text{old}} - \\alpha \\times \\frac{\\partial \\text{Loss}}{\\partial W}\n",
    "$$\n"
   ]
  },
  {
   "cell_type": "code",
   "execution_count": null,
   "id": "4cedd415",
   "metadata": {},
   "outputs": [],
   "source": [
    "optimizer = torch.optim.AdamW(model.parameters(), lr=learning_rate)\n",
    "\n",
    "for iter in range(max_iters):\n",
    "    xb, yb = get_batch('train')\n",
    "\n",
    "    logits, loss = model.forward(xb, yb)\n",
    "    optimizer.zero_grad(set_to_none=True)\n",
    "    loss.backward()\n",
    "    optimizer.step()\n",
    "\n",
    "print(loss.item())"
   ]
  },
  {
   "cell_type": "code",
   "execution_count": null,
   "id": "06188f16",
   "metadata": {},
   "outputs": [],
   "source": [
    "context = torch.zeros((1,1), dtype=torch.long, device=device)\n",
    "generated_chars = decode(m.generate(context, max_new_tokens=500)[0].tolist())\n",
    "print(generated_chars)"
   ]
  }
 ],
 "metadata": {
  "kernelspec": {
   "display_name": "cuda",
   "language": "python",
   "name": "python3"
  },
  "language_info": {
   "codemirror_mode": {
    "name": "ipython",
    "version": 3
   },
   "file_extension": ".py",
   "mimetype": "text/x-python",
   "name": "python",
   "nbconvert_exporter": "python",
   "pygments_lexer": "ipython3",
   "version": "3.11.3"
  }
 },
 "nbformat": 4,
 "nbformat_minor": 5
}
